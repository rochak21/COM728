{
 "cells": [
  {
   "cell_type": "code",
   "execution_count": 1,
   "id": "2dae77c2",
   "metadata": {},
   "outputs": [],
   "source": [
    "import csv\n",
    "import pandas as pd\n",
    "\n",
    "line_width = 80\n",
    "\n",
    "\n",
    "def welcome(message=''):\n",
    "    output = f'Operation started welcome :{message}...'\n",
    "    dashes = \"-\" * line_width\n",
    "    print(f\"\\n{dashes}\\n{output}\\n\")\n",
    "\n",
    "\n",
    "def load_csv_file():\n",
    "    \"\"\"\n",
    "    Function to load data from a CSV file.\n",
    "\n",
    "    Returns:\n",
    "    - dict_data: Dictionary containing data loaded from the CSV file.\n",
    "    - df_data: DataFrame containing data loaded from the CSV file.\n",
    "    \"\"\"\n",
    "    file_path = input(\"Enter the file path of the CSV file: \")\n",
    "    try:\n",
    "        # Load data into a dictionary\n",
    "        dict_data = []\n",
    "        with open(file_path, 'r') as file:\n",
    "            reader = csv.DictReader(file)\n",
    "            for row in reader:\n",
    "                dict_data.append(row)\n",
    "\n",
    "        # Load data into a DataFrame\n",
    "        df_data = pd.read_csv(file_path)\n",
    "        return dict_data, df_data  # Return both the dictionary and DataFrame\n",
    "    except Exception as e:\n",
    "        print(\"Error loading CSV file:\", e)\n",
    "        return None, None  # Return None for both dictionary and DataFrame if there's an error\n",
    "\n",
    "def get_user_choice(user_prompt, valid_choices):\n",
    "\n",
    "    while True:\n",
    "        choice = input(user_prompt).lower()\n",
    "        if choice in valid_choices:\n",
    "            return choice\n",
    "        else:\n",
    "            invalid_choice()\n",
    "\n",
    "def invalid_choice():  # informs the user they inputted an invalid menu choice\n",
    "    print(\"\\n Invalid choice. Please enter a valid option. \\n\")\n",
    "\n"
   ]
  },
  {
   "cell_type": "code",
   "execution_count": null,
   "id": "0785e82c",
   "metadata": {},
   "outputs": [],
   "source": []
  }
 ],
 "metadata": {
  "kernelspec": {
   "display_name": "Python 3 (ipykernel)",
   "language": "python",
   "name": "python3"
  },
  "language_info": {
   "codemirror_mode": {
    "name": "ipython",
    "version": 3
   },
   "file_extension": ".py",
   "mimetype": "text/x-python",
   "name": "python",
   "nbconvert_exporter": "python",
   "pygments_lexer": "ipython3",
   "version": "3.11.5"
  }
 },
 "nbformat": 4,
 "nbformat_minor": 5
}
